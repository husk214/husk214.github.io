{
 "cells": [
  {
   "cell_type": "code",
   "execution_count": 1,
   "id": "8da7252d-a438-4f8a-8bf2-59cd8465bd95",
   "metadata": {},
   "outputs": [],
   "source": [
    "# https://github.com/Felix-Petersen/diffsort\n",
    "\n",
    "import math\n",
    "from typing import List, Tuple\n",
    "\n",
    "import torch\n",
    "import numpy as np\n",
    "\n",
    "def odd_even_network(n):\n",
    "    layers = n\n",
    "\n",
    "    network = []\n",
    "\n",
    "    shifted: bool = False\n",
    "    even: bool = n % 2 == 0\n",
    "\n",
    "    for layer in range(layers):\n",
    "\n",
    "        if even:\n",
    "            k = n // 2 + shifted\n",
    "        else:\n",
    "            k = n // 2 + 1\n",
    "\n",
    "        split_a, split_b = np.zeros((k, n)), np.zeros((k, n))\n",
    "        combine_min, combine_max = np.zeros((n, k)), np.zeros((n, k))\n",
    "\n",
    "        count = 0\n",
    "\n",
    "        # for i in range(n // 2 if not (even and shifted) else n // 2 - 1):\n",
    "        for i in range(int(shifted), n-1, 2):\n",
    "            a, b = i, i + 1\n",
    "            split_a[count, a], split_b[count, b] = 1, 1\n",
    "            combine_min[a, count], combine_max[b, count] = 1, 1\n",
    "            count += 1\n",
    "\n",
    "        if even and shifted:\n",
    "            # Make sure that the corner values stay where they are/were:\n",
    "            a, b = 0, 0\n",
    "            split_a[count, a], split_b[count, b] = 1, 1\n",
    "            combine_min[a, count], combine_max[b, count] = .5, .5\n",
    "            count += 1\n",
    "            a, b = n - 1, n - 1\n",
    "            split_a[count, a], split_b[count, b] = 1, 1\n",
    "            combine_min[a, count], combine_max[b, count] = .5, .5\n",
    "            count += 1\n",
    "\n",
    "        elif not even:\n",
    "            if shifted:\n",
    "                a, b = 0, 0\n",
    "            else:\n",
    "                a, b = n - 1, n - 1\n",
    "            split_a[count, a], split_b[count, b] = 1, 1\n",
    "            combine_min[a, count], combine_max[b, count] = .5, .5\n",
    "            count += 1\n",
    "\n",
    "        assert count == k\n",
    "\n",
    "        network.append((split_a, split_b, combine_min, combine_max))\n",
    "        shifted = not shifted\n",
    "\n",
    "    return network\n",
    "\n",
    "\n",
    "def get_sorting_network(n, device='cpu'):\n",
    "    def matrix_to_torch(m):\n",
    "        return [[torch.from_numpy(matrix).float().to(device) for matrix in matrix_set] for matrix_set in m]\n",
    "    return matrix_to_torch(odd_even_network(n))"
   ]
  },
  {
   "cell_type": "code",
   "execution_count": 2,
   "id": "5c411199-2031-4a49-be5f-4d2692dd09f3",
   "metadata": {},
   "outputs": [
    {
     "data": {
      "text/plain": [
       "4"
      ]
     },
     "execution_count": 2,
     "metadata": {},
     "output_type": "execute_result"
    }
   ],
   "source": [
    "ls = get_sorting_network(4)\n",
    "len(ls)"
   ]
  },
  {
   "cell_type": "code",
   "execution_count": 3,
   "id": "458d0716-9de8-43aa-9218-3a6ff74f4d87",
   "metadata": {},
   "outputs": [
    {
     "data": {
      "text/plain": [
       "([tensor([[1., 0., 0., 0.],\n",
       "          [0., 0., 1., 0.]]),\n",
       "  tensor([[0., 1., 0., 0.],\n",
       "          [0., 0., 0., 1.]]),\n",
       "  tensor([[1., 0.],\n",
       "          [0., 0.],\n",
       "          [0., 1.],\n",
       "          [0., 0.]]),\n",
       "  tensor([[0., 0.],\n",
       "          [1., 0.],\n",
       "          [0., 0.],\n",
       "          [0., 1.]])],\n",
       " torch.Size([4, 2]))"
      ]
     },
     "execution_count": 3,
     "metadata": {},
     "output_type": "execute_result"
    }
   ],
   "source": [
    "ls[0], ls[0][2].shape"
   ]
  },
  {
   "cell_type": "code",
   "execution_count": 4,
   "id": "a4cddef5-8872-43c7-8468-5d17cb4fee5f",
   "metadata": {},
   "outputs": [],
   "source": [
    "vectors = torch.tensor([[3, 2, 4, 1]], dtype=torch.float32)\n",
    "steepness=10.\n",
    "\n",
    "x = vectors\n",
    "X = torch.eye(vectors.shape[1], dtype=x.dtype, device=x.device).repeat(x.shape[0], 1, 1)\n",
    "\n",
    "split_a, split_b, combine_min, combine_max = ls[0]\n",
    "split_a = split_a.type(x.dtype)\n",
    "split_b = split_b.type(x.dtype)\n",
    "combine_min = combine_min.type(x.dtype)\n",
    "combine_max = combine_max.type(x.dtype)\n",
    "\n",
    "a, b = x @ split_a.T, x @ split_b.T\n",
    "\n",
    "# float conversion necessary as PyTorch doesn't support Half for sigmoid as of 25. August 2021\n",
    "new_type = torch.float32 if x.dtype == torch.float16 else x.dtype\n",
    "\n",
    "\n",
    "alpha = torch.sigmoid((b-a).type(new_type) * steepness).type(x.dtype)\n",
    "\n",
    "\n",
    "aX = X @ split_a.T\n",
    "bX = X @ split_b.T\n",
    "w_min = alpha.unsqueeze(-2) * aX + (1-alpha).unsqueeze(-2) * bX\n",
    "w_max = (1-alpha).unsqueeze(-2) * aX + alpha.unsqueeze(-2) * bX\n",
    "X = (w_max @ combine_max.T.unsqueeze(-3)) + (w_min @ combine_min.T.unsqueeze(-3))\n",
    "x = (alpha * a + (1-alpha) * b) @ combine_min.T + ((1-alpha) * a + alpha * b) @ combine_max.T"
   ]
  },
  {
   "cell_type": "code",
   "execution_count": 5,
   "id": "86fac9ca-8eba-441c-ba63-46cd568aaa9b",
   "metadata": {},
   "outputs": [
    {
     "data": {
      "text/plain": [
       "tensor([2.0000, 3.0000, 1.0000, 4.0000])"
      ]
     },
     "execution_count": 5,
     "metadata": {},
     "output_type": "execute_result"
    }
   ],
   "source": [
    "X[0]@vectors[0]"
   ]
  },
  {
   "cell_type": "code",
   "execution_count": 6,
   "id": "8e4aa6fc-fcc6-4133-bcfd-cfb3e4ea41c2",
   "metadata": {},
   "outputs": [
    {
     "data": {
      "text/plain": [
       "tensor([[[4.5398e-05, 9.9995e-01, 0.0000e+00, 0.0000e+00],\n",
       "         [9.9995e-01, 4.5398e-05, 0.0000e+00, 0.0000e+00],\n",
       "         [0.0000e+00, 0.0000e+00, 9.3576e-14, 1.0000e+00],\n",
       "         [0.0000e+00, 0.0000e+00, 1.0000e+00, 9.3576e-14]]])"
      ]
     },
     "execution_count": 6,
     "metadata": {},
     "output_type": "execute_result"
    }
   ],
   "source": [
    "X"
   ]
  },
  {
   "cell_type": "code",
   "execution_count": 7,
   "id": "d10a2330-075d-4cbb-aaa2-3b867a9df658",
   "metadata": {},
   "outputs": [],
   "source": [
    "import pandas as pd"
   ]
  },
  {
   "cell_type": "code",
   "execution_count": 8,
   "id": "d34e283c-0a2b-44b5-bd4d-0fd6c07eaefd",
   "metadata": {},
   "outputs": [
    {
     "ename": "FileNotFoundError",
     "evalue": "[Errno 2] No such file or directory: '/Users/ashibaga/ghq/ghe.corp.yahoo.co.jp/exodus/exodus/research/dd_quality/2024H2/random_202408/queries.tsv'",
     "output_type": "error",
     "traceback": [
      "\u001b[31m---------------------------------------------------------------------------\u001b[39m",
      "\u001b[31mFileNotFoundError\u001b[39m                         Traceback (most recent call last)",
      "\u001b[36mCell\u001b[39m\u001b[36m \u001b[39m\u001b[32mIn[8]\u001b[39m\u001b[32m, line 1\u001b[39m\n\u001b[32m----> \u001b[39m\u001b[32m1\u001b[39m df = \u001b[43mpd\u001b[49m\u001b[43m.\u001b[49m\u001b[43mread_csv\u001b[49m\u001b[43m(\u001b[49m\u001b[33;43m\"\u001b[39;49m\u001b[33;43m/Users/ashibaga/ghq/ghe.corp.yahoo.co.jp/exodus/exodus/research/dd_quality/2024H2/random_202408/queries.tsv\u001b[39;49m\u001b[33;43m\"\u001b[39;49m\u001b[43m,\u001b[49m\u001b[43m \u001b[49m\u001b[43msep\u001b[49m\u001b[43m=\u001b[49m\u001b[33;43m\"\u001b[39;49m\u001b[38;5;130;43;01m\\t\u001b[39;49;00m\u001b[33;43m\"\u001b[39;49m\u001b[43m)\u001b[49m\n\u001b[32m      2\u001b[39m df = df.query(\u001b[33m\"\u001b[39m\u001b[33mDD種別==\u001b[39m\u001b[33m'\u001b[39m\u001b[33m正解型\u001b[39m\u001b[33m'\u001b[39m\u001b[33m&領域==\u001b[39m\u001b[33m'\u001b[39m\u001b[33m一般\u001b[39m\u001b[33m'\u001b[39m\u001b[33m\"\u001b[39m).fillna(\u001b[33m'\u001b[39m\u001b[33mなし\u001b[39m\u001b[33m'\u001b[39m).rename({\u001b[33m\"\u001b[39m\u001b[33m正解gid\u001b[39m\u001b[33m\"\u001b[39m: \u001b[33m\"\u001b[39m\u001b[33mgids\u001b[39m\u001b[33m\"\u001b[39m},axis=\u001b[32m1\u001b[39m)[[\u001b[33m\"\u001b[39m\u001b[33mquery\u001b[39m\u001b[33m\"\u001b[39m, \u001b[33m\"\u001b[39m\u001b[33mgids\u001b[39m\u001b[33m\"\u001b[39m]]\n\u001b[32m      4\u001b[39m df[\u001b[33m\"\u001b[39m\u001b[33mcontext\u001b[39m\u001b[33m\"\u001b[39m] = \u001b[33m\"\u001b[39m\u001b[33mなし\u001b[39m\u001b[33m\"\u001b[39m\n",
      "\u001b[36mFile \u001b[39m\u001b[32m~\\miniconda3\\Lib\\site-packages\\pandas\\io\\parsers\\readers.py:1026\u001b[39m, in \u001b[36mread_csv\u001b[39m\u001b[34m(filepath_or_buffer, sep, delimiter, header, names, index_col, usecols, dtype, engine, converters, true_values, false_values, skipinitialspace, skiprows, skipfooter, nrows, na_values, keep_default_na, na_filter, verbose, skip_blank_lines, parse_dates, infer_datetime_format, keep_date_col, date_parser, date_format, dayfirst, cache_dates, iterator, chunksize, compression, thousands, decimal, lineterminator, quotechar, quoting, doublequote, escapechar, comment, encoding, encoding_errors, dialect, on_bad_lines, delim_whitespace, low_memory, memory_map, float_precision, storage_options, dtype_backend)\u001b[39m\n\u001b[32m   1013\u001b[39m kwds_defaults = _refine_defaults_read(\n\u001b[32m   1014\u001b[39m     dialect,\n\u001b[32m   1015\u001b[39m     delimiter,\n\u001b[32m   (...)\u001b[39m\u001b[32m   1022\u001b[39m     dtype_backend=dtype_backend,\n\u001b[32m   1023\u001b[39m )\n\u001b[32m   1024\u001b[39m kwds.update(kwds_defaults)\n\u001b[32m-> \u001b[39m\u001b[32m1026\u001b[39m \u001b[38;5;28;01mreturn\u001b[39;00m \u001b[43m_read\u001b[49m\u001b[43m(\u001b[49m\u001b[43mfilepath_or_buffer\u001b[49m\u001b[43m,\u001b[49m\u001b[43m \u001b[49m\u001b[43mkwds\u001b[49m\u001b[43m)\u001b[49m\n",
      "\u001b[36mFile \u001b[39m\u001b[32m~\\miniconda3\\Lib\\site-packages\\pandas\\io\\parsers\\readers.py:620\u001b[39m, in \u001b[36m_read\u001b[39m\u001b[34m(filepath_or_buffer, kwds)\u001b[39m\n\u001b[32m    617\u001b[39m _validate_names(kwds.get(\u001b[33m\"\u001b[39m\u001b[33mnames\u001b[39m\u001b[33m\"\u001b[39m, \u001b[38;5;28;01mNone\u001b[39;00m))\n\u001b[32m    619\u001b[39m \u001b[38;5;66;03m# Create the parser.\u001b[39;00m\n\u001b[32m--> \u001b[39m\u001b[32m620\u001b[39m parser = \u001b[43mTextFileReader\u001b[49m\u001b[43m(\u001b[49m\u001b[43mfilepath_or_buffer\u001b[49m\u001b[43m,\u001b[49m\u001b[43m \u001b[49m\u001b[43m*\u001b[49m\u001b[43m*\u001b[49m\u001b[43mkwds\u001b[49m\u001b[43m)\u001b[49m\n\u001b[32m    622\u001b[39m \u001b[38;5;28;01mif\u001b[39;00m chunksize \u001b[38;5;129;01mor\u001b[39;00m iterator:\n\u001b[32m    623\u001b[39m     \u001b[38;5;28;01mreturn\u001b[39;00m parser\n",
      "\u001b[36mFile \u001b[39m\u001b[32m~\\miniconda3\\Lib\\site-packages\\pandas\\io\\parsers\\readers.py:1620\u001b[39m, in \u001b[36mTextFileReader.__init__\u001b[39m\u001b[34m(self, f, engine, **kwds)\u001b[39m\n\u001b[32m   1617\u001b[39m     \u001b[38;5;28mself\u001b[39m.options[\u001b[33m\"\u001b[39m\u001b[33mhas_index_names\u001b[39m\u001b[33m\"\u001b[39m] = kwds[\u001b[33m\"\u001b[39m\u001b[33mhas_index_names\u001b[39m\u001b[33m\"\u001b[39m]\n\u001b[32m   1619\u001b[39m \u001b[38;5;28mself\u001b[39m.handles: IOHandles | \u001b[38;5;28;01mNone\u001b[39;00m = \u001b[38;5;28;01mNone\u001b[39;00m\n\u001b[32m-> \u001b[39m\u001b[32m1620\u001b[39m \u001b[38;5;28mself\u001b[39m._engine = \u001b[38;5;28;43mself\u001b[39;49m\u001b[43m.\u001b[49m\u001b[43m_make_engine\u001b[49m\u001b[43m(\u001b[49m\u001b[43mf\u001b[49m\u001b[43m,\u001b[49m\u001b[43m \u001b[49m\u001b[38;5;28;43mself\u001b[39;49m\u001b[43m.\u001b[49m\u001b[43mengine\u001b[49m\u001b[43m)\u001b[49m\n",
      "\u001b[36mFile \u001b[39m\u001b[32m~\\miniconda3\\Lib\\site-packages\\pandas\\io\\parsers\\readers.py:1880\u001b[39m, in \u001b[36mTextFileReader._make_engine\u001b[39m\u001b[34m(self, f, engine)\u001b[39m\n\u001b[32m   1878\u001b[39m     \u001b[38;5;28;01mif\u001b[39;00m \u001b[33m\"\u001b[39m\u001b[33mb\u001b[39m\u001b[33m\"\u001b[39m \u001b[38;5;129;01mnot\u001b[39;00m \u001b[38;5;129;01min\u001b[39;00m mode:\n\u001b[32m   1879\u001b[39m         mode += \u001b[33m\"\u001b[39m\u001b[33mb\u001b[39m\u001b[33m\"\u001b[39m\n\u001b[32m-> \u001b[39m\u001b[32m1880\u001b[39m \u001b[38;5;28mself\u001b[39m.handles = \u001b[43mget_handle\u001b[49m\u001b[43m(\u001b[49m\n\u001b[32m   1881\u001b[39m \u001b[43m    \u001b[49m\u001b[43mf\u001b[49m\u001b[43m,\u001b[49m\n\u001b[32m   1882\u001b[39m \u001b[43m    \u001b[49m\u001b[43mmode\u001b[49m\u001b[43m,\u001b[49m\n\u001b[32m   1883\u001b[39m \u001b[43m    \u001b[49m\u001b[43mencoding\u001b[49m\u001b[43m=\u001b[49m\u001b[38;5;28;43mself\u001b[39;49m\u001b[43m.\u001b[49m\u001b[43moptions\u001b[49m\u001b[43m.\u001b[49m\u001b[43mget\u001b[49m\u001b[43m(\u001b[49m\u001b[33;43m\"\u001b[39;49m\u001b[33;43mencoding\u001b[39;49m\u001b[33;43m\"\u001b[39;49m\u001b[43m,\u001b[49m\u001b[43m \u001b[49m\u001b[38;5;28;43;01mNone\u001b[39;49;00m\u001b[43m)\u001b[49m\u001b[43m,\u001b[49m\n\u001b[32m   1884\u001b[39m \u001b[43m    \u001b[49m\u001b[43mcompression\u001b[49m\u001b[43m=\u001b[49m\u001b[38;5;28;43mself\u001b[39;49m\u001b[43m.\u001b[49m\u001b[43moptions\u001b[49m\u001b[43m.\u001b[49m\u001b[43mget\u001b[49m\u001b[43m(\u001b[49m\u001b[33;43m\"\u001b[39;49m\u001b[33;43mcompression\u001b[39;49m\u001b[33;43m\"\u001b[39;49m\u001b[43m,\u001b[49m\u001b[43m \u001b[49m\u001b[38;5;28;43;01mNone\u001b[39;49;00m\u001b[43m)\u001b[49m\u001b[43m,\u001b[49m\n\u001b[32m   1885\u001b[39m \u001b[43m    \u001b[49m\u001b[43mmemory_map\u001b[49m\u001b[43m=\u001b[49m\u001b[38;5;28;43mself\u001b[39;49m\u001b[43m.\u001b[49m\u001b[43moptions\u001b[49m\u001b[43m.\u001b[49m\u001b[43mget\u001b[49m\u001b[43m(\u001b[49m\u001b[33;43m\"\u001b[39;49m\u001b[33;43mmemory_map\u001b[39;49m\u001b[33;43m\"\u001b[39;49m\u001b[43m,\u001b[49m\u001b[43m \u001b[49m\u001b[38;5;28;43;01mFalse\u001b[39;49;00m\u001b[43m)\u001b[49m\u001b[43m,\u001b[49m\n\u001b[32m   1886\u001b[39m \u001b[43m    \u001b[49m\u001b[43mis_text\u001b[49m\u001b[43m=\u001b[49m\u001b[43mis_text\u001b[49m\u001b[43m,\u001b[49m\n\u001b[32m   1887\u001b[39m \u001b[43m    \u001b[49m\u001b[43merrors\u001b[49m\u001b[43m=\u001b[49m\u001b[38;5;28;43mself\u001b[39;49m\u001b[43m.\u001b[49m\u001b[43moptions\u001b[49m\u001b[43m.\u001b[49m\u001b[43mget\u001b[49m\u001b[43m(\u001b[49m\u001b[33;43m\"\u001b[39;49m\u001b[33;43mencoding_errors\u001b[39;49m\u001b[33;43m\"\u001b[39;49m\u001b[43m,\u001b[49m\u001b[43m \u001b[49m\u001b[33;43m\"\u001b[39;49m\u001b[33;43mstrict\u001b[39;49m\u001b[33;43m\"\u001b[39;49m\u001b[43m)\u001b[49m\u001b[43m,\u001b[49m\n\u001b[32m   1888\u001b[39m \u001b[43m    \u001b[49m\u001b[43mstorage_options\u001b[49m\u001b[43m=\u001b[49m\u001b[38;5;28;43mself\u001b[39;49m\u001b[43m.\u001b[49m\u001b[43moptions\u001b[49m\u001b[43m.\u001b[49m\u001b[43mget\u001b[49m\u001b[43m(\u001b[49m\u001b[33;43m\"\u001b[39;49m\u001b[33;43mstorage_options\u001b[39;49m\u001b[33;43m\"\u001b[39;49m\u001b[43m,\u001b[49m\u001b[43m \u001b[49m\u001b[38;5;28;43;01mNone\u001b[39;49;00m\u001b[43m)\u001b[49m\u001b[43m,\u001b[49m\n\u001b[32m   1889\u001b[39m \u001b[43m\u001b[49m\u001b[43m)\u001b[49m\n\u001b[32m   1890\u001b[39m \u001b[38;5;28;01massert\u001b[39;00m \u001b[38;5;28mself\u001b[39m.handles \u001b[38;5;129;01mis\u001b[39;00m \u001b[38;5;129;01mnot\u001b[39;00m \u001b[38;5;28;01mNone\u001b[39;00m\n\u001b[32m   1891\u001b[39m f = \u001b[38;5;28mself\u001b[39m.handles.handle\n",
      "\u001b[36mFile \u001b[39m\u001b[32m~\\miniconda3\\Lib\\site-packages\\pandas\\io\\common.py:873\u001b[39m, in \u001b[36mget_handle\u001b[39m\u001b[34m(path_or_buf, mode, encoding, compression, memory_map, is_text, errors, storage_options)\u001b[39m\n\u001b[32m    868\u001b[39m \u001b[38;5;28;01melif\u001b[39;00m \u001b[38;5;28misinstance\u001b[39m(handle, \u001b[38;5;28mstr\u001b[39m):\n\u001b[32m    869\u001b[39m     \u001b[38;5;66;03m# Check whether the filename is to be opened in binary mode.\u001b[39;00m\n\u001b[32m    870\u001b[39m     \u001b[38;5;66;03m# Binary mode does not support 'encoding' and 'newline'.\u001b[39;00m\n\u001b[32m    871\u001b[39m     \u001b[38;5;28;01mif\u001b[39;00m ioargs.encoding \u001b[38;5;129;01mand\u001b[39;00m \u001b[33m\"\u001b[39m\u001b[33mb\u001b[39m\u001b[33m\"\u001b[39m \u001b[38;5;129;01mnot\u001b[39;00m \u001b[38;5;129;01min\u001b[39;00m ioargs.mode:\n\u001b[32m    872\u001b[39m         \u001b[38;5;66;03m# Encoding\u001b[39;00m\n\u001b[32m--> \u001b[39m\u001b[32m873\u001b[39m         handle = \u001b[38;5;28;43mopen\u001b[39;49m\u001b[43m(\u001b[49m\n\u001b[32m    874\u001b[39m \u001b[43m            \u001b[49m\u001b[43mhandle\u001b[49m\u001b[43m,\u001b[49m\n\u001b[32m    875\u001b[39m \u001b[43m            \u001b[49m\u001b[43mioargs\u001b[49m\u001b[43m.\u001b[49m\u001b[43mmode\u001b[49m\u001b[43m,\u001b[49m\n\u001b[32m    876\u001b[39m \u001b[43m            \u001b[49m\u001b[43mencoding\u001b[49m\u001b[43m=\u001b[49m\u001b[43mioargs\u001b[49m\u001b[43m.\u001b[49m\u001b[43mencoding\u001b[49m\u001b[43m,\u001b[49m\n\u001b[32m    877\u001b[39m \u001b[43m            \u001b[49m\u001b[43merrors\u001b[49m\u001b[43m=\u001b[49m\u001b[43merrors\u001b[49m\u001b[43m,\u001b[49m\n\u001b[32m    878\u001b[39m \u001b[43m            \u001b[49m\u001b[43mnewline\u001b[49m\u001b[43m=\u001b[49m\u001b[33;43m\"\u001b[39;49m\u001b[33;43m\"\u001b[39;49m\u001b[43m,\u001b[49m\n\u001b[32m    879\u001b[39m \u001b[43m        \u001b[49m\u001b[43m)\u001b[49m\n\u001b[32m    880\u001b[39m     \u001b[38;5;28;01melse\u001b[39;00m:\n\u001b[32m    881\u001b[39m         \u001b[38;5;66;03m# Binary mode\u001b[39;00m\n\u001b[32m    882\u001b[39m         handle = \u001b[38;5;28mopen\u001b[39m(handle, ioargs.mode)\n",
      "\u001b[31mFileNotFoundError\u001b[39m: [Errno 2] No such file or directory: '/Users/ashibaga/ghq/ghe.corp.yahoo.co.jp/exodus/exodus/research/dd_quality/2024H2/random_202408/queries.tsv'"
     ]
    }
   ],
   "source": [
    "df = pd.read_csv(\"/Users/ashibaga/ghq/ghe.corp.yahoo.co.jp/exodus/exodus/research/dd_quality/2024H2/random_202408/queries.tsv\", sep=\"\\t\")\n",
    "df = df.query(\"DD種別=='正解型'&領域=='一般'\").fillna('なし').rename({\"正解gid\": \"gids\"},axis=1)[[\"query\", \"gids\"]]\n",
    "\n",
    "df[\"context\"] = \"なし\"\n",
    "df[\"is_closed\"] = \"なし\"\n",
    "df[\"google\"] = \"spot\"\n",
    "df[\"either_is_fine\"] = 0"
   ]
  },
  {
   "cell_type": "code",
   "execution_count": 46,
   "id": "eb37c63e-249b-4fdf-9e81-66cc5e74630d",
   "metadata": {},
   "outputs": [],
   "source": [
    "df.to_csv(\"/Users/ashibaga/ghq/ghe.corp.yahoo.co.jp/exodus/exodus/research/dd_quality/2024H2/generalspot_20240807/queries_r2k.tsv\", sep=\"\\t\", index=False)"
   ]
  },
  {
   "cell_type": "code",
   "execution_count": null,
   "id": "ad64e1fc-eb52-4734-a9cd-a85db3b56076",
   "metadata": {},
   "outputs": [],
   "source": []
  }
 ],
 "metadata": {
  "kernelspec": {
   "display_name": "Python 3 (ipykernel)",
   "language": "python",
   "name": "python3"
  },
  "language_info": {
   "codemirror_mode": {
    "name": "ipython",
    "version": 3
   },
   "file_extension": ".py",
   "mimetype": "text/x-python",
   "name": "python",
   "nbconvert_exporter": "python",
   "pygments_lexer": "ipython3",
   "version": "3.13.5"
  }
 },
 "nbformat": 4,
 "nbformat_minor": 5
}