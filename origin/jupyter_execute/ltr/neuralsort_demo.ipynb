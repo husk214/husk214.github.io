{
 "cells": [
  {
   "cell_type": "code",
   "execution_count": 1,
   "id": "d3e923cc-a2d3-471b-8437-e9af9a5c3699",
   "metadata": {},
   "outputs": [],
   "source": [
    "import tensorflow as tf\n",
    "\n",
    "def neural_sort(s, tau=0.1):\n",
    "    m = s.shape[0]\n",
    "    n = s.shape[1]\n",
    "    es = tf.repeat(tf.expand_dims(s, axis=1), n, axis=1) \n",
    "    A = tf.abs(tf.transpose(es, perm=[0,2,1]) - es)\n",
    "    i = tf.range(1, n+1, dtype=tf.float32)\n",
    "    A1 = tf.repeat(tf.expand_dims(tf.reduce_sum(A, axis=1), axis=1), n, axis=1)\n",
    "    pi = tf.multiply(n+1-2*i[:, None], es) - A1\n",
    "    pm = tf.nn.softmax(pi/tau)\n",
    "\n",
    "    sort_s = tf.linalg.matvec(pm, s)\n",
    "\n",
    "    b_hat = tf.expand_dims(tf.repeat(i[None, :], m, axis=0), axis=2)\n",
    "    rank_s = tf.linalg.matmul(pm, b_hat)[...,0]\n",
    "    return sort_s, rank_s"
   ]
  },
  {
   "cell_type": "code",
   "execution_count": 2,
   "id": "d0fab488-58f8-4730-a95f-f079498e14b0",
   "metadata": {},
   "outputs": [
    {
     "name": "stdout",
     "output_type": "stream",
     "text": [
      "s =\n",
      " [[ 9.   1.   5.   3. ]\n",
      " [-6.5  0.4  1.5  3.8]]\n",
      "sort(s) =\n",
      " [[ 9.         5.         3.         1.       ]\n",
      " [ 3.8        1.4999816  0.4000184 -6.5      ]]\n",
      "rank(s) =\n",
      " [[1.        3.        4.        2.       ]\n",
      " [4.        2.9999833 2.0000167 1.       ]]\n"
     ]
    }
   ],
   "source": [
    "s = tf.constant([[9,1,5,3,], [-6.5, 0.4, 1.5, 3.8,]])\n",
    "ss, sr = neural_sort(s)\n",
    "\n",
    "print(\"s =\\n\", s.numpy())\n",
    "print(\"sort(s) =\\n\", ss.numpy())\n",
    "print(\"rank(s) =\\n\", sr.numpy())"
   ]
  },
  {
   "cell_type": "code",
   "execution_count": null,
   "id": "02fdd20c-f8d4-4a0e-8538-709e2d4ff93a",
   "metadata": {},
   "outputs": [],
   "source": []
  }
 ],
 "metadata": {
  "kernelspec": {
   "display_name": "Python 3 (ipykernel)",
   "language": "python",
   "name": "python3"
  },
  "language_info": {
   "codemirror_mode": {
    "name": "ipython",
    "version": 3
   },
   "file_extension": ".py",
   "mimetype": "text/x-python",
   "name": "python",
   "nbconvert_exporter": "python",
   "pygments_lexer": "ipython3",
   "version": "3.13.5"
  }
 },
 "nbformat": 4,
 "nbformat_minor": 5
}