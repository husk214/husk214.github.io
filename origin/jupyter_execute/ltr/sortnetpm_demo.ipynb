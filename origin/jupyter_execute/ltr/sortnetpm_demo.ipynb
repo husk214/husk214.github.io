{
 "cells": [
  {
   "cell_type": "code",
   "execution_count": 1,
   "id": "96575c2b-4ea4-48fa-83db-e246d168555f",
   "metadata": {},
   "outputs": [],
   "source": [
    "import torch\n",
    "\n",
    "def f(x):\n",
    "    s = 10.0\n",
    "    return 1. / (1. + torch.exp(-s*x))\n",
    "\n",
    "def get_pm(x, ij_list):\n",
    "    n = x.shape[0]\n",
    "    P = torch.eye(n, dtype=x.dtype)\n",
    "    for i, j in ij_list:\n",
    "        alpha_ij = f(x[j] - x[i])\n",
    "        P[i, i] = alpha_ij\n",
    "        P[j, j] = alpha_ij\n",
    "        P[i, j] = 1 - alpha_ij\n",
    "        P[j, i] = 1 - alpha_ij\n",
    "    return P\n",
    "\n",
    "def mprint(*args):\n",
    "    for x in args:\n",
    "        print(x)"
   ]
  },
  {
   "cell_type": "code",
   "execution_count": 2,
   "id": "99ac0bfe-e97b-4d48-9a05-538177ac347d",
   "metadata": {},
   "outputs": [],
   "source": [
    "x = torch.tensor([3, 2, 4, 1], dtype=torch.float32)"
   ]
  },
  {
   "cell_type": "code",
   "execution_count": 3,
   "id": "ba1965ff-56fd-43e7-9580-129c63593cae",
   "metadata": {},
   "outputs": [
    {
     "name": "stdout",
     "output_type": "stream",
     "text": [
      "tensor([3.0000, 1.0000, 4.0000, 2.0000])\n",
      "tensor([[9.9995e-01, 0.0000e+00, 4.5419e-05, 0.0000e+00],\n",
      "        [0.0000e+00, 4.5398e-05, 0.0000e+00, 9.9995e-01],\n",
      "        [4.5419e-05, 0.0000e+00, 9.9995e-01, 0.0000e+00],\n",
      "        [0.0000e+00, 9.9995e-01, 0.0000e+00, 4.5398e-05]])\n",
      "tensor(4.)\n"
     ]
    }
   ],
   "source": [
    "# layer1 \n",
    "P1 = get_pm(x, ij_list=[(0, 2), (1,3)])\n",
    "P = P1\n",
    "sx = P @ x\n",
    "mprint(sx, P, P.sum())"
   ]
  },
  {
   "cell_type": "code",
   "execution_count": 4,
   "id": "94d57b82-46a2-4bde-b6ba-fcda299206be",
   "metadata": {},
   "outputs": [
    {
     "name": "stdout",
     "output_type": "stream",
     "text": [
      "tensor([1.0000, 3.0000, 2.0000, 4.0000])\n",
      "tensor([[2.0611e-09, 4.5398e-05, 9.3615e-14, 9.9995e-01],\n",
      "        [9.9995e-01, 9.3572e-14, 4.5419e-05, 2.0611e-09],\n",
      "        [9.3615e-14, 9.9995e-01, 2.0611e-09, 4.5398e-05],\n",
      "        [4.5419e-05, 2.0611e-09, 9.9995e-01, 9.3572e-14]])\n",
      "tensor(4.)\n"
     ]
    }
   ],
   "source": [
    "# layer2\n",
    "P2 = get_pm(sx, ij_list=[(0, 1), (2,3)])\n",
    "P = torch.matmul(P2.T, P1.T) \n",
    "sx = P @ x\n",
    "mprint(sx, P, P.sum())"
   ]
  },
  {
   "cell_type": "code",
   "execution_count": 5,
   "id": "b85b857c-d71b-49ec-aced-d3a0b9ef4347",
   "metadata": {},
   "outputs": [
    {
     "name": "stdout",
     "output_type": "stream",
     "text": [
      "tensor([1.0000, 2.0000, 3.0000, 4.0000])\n",
      "tensor([[2.0611e-09, 4.5398e-05, 9.3615e-14, 9.9995e-01],\n",
      "        [4.5355e-05, 9.9991e-01, 4.1210e-09, 4.5396e-05],\n",
      "        [9.9991e-01, 4.5355e-05, 4.5417e-05, 4.1201e-09],\n",
      "        [4.5419e-05, 2.0611e-09, 9.9995e-01, 9.3572e-14]])\n",
      "tensor(4.)\n"
     ]
    }
   ],
   "source": [
    "# layer3\n",
    "P3 = get_pm(sx, ij_list=[(1, 2)])\n",
    "P = torch.matmul(P3.T, torch.matmul(P2.T, P1.T))\n",
    "sx = P @ x\n",
    "mprint(sx, P, P.sum())"
   ]
  },
  {
   "cell_type": "code",
   "execution_count": null,
   "id": "bac14022-9d1c-4261-84bc-4d65951b1434",
   "metadata": {},
   "outputs": [],
   "source": []
  }
 ],
 "metadata": {
  "kernelspec": {
   "display_name": "Python 3 (ipykernel)",
   "language": "python",
   "name": "python3"
  },
  "language_info": {
   "codemirror_mode": {
    "name": "ipython",
    "version": 3
   },
   "file_extension": ".py",
   "mimetype": "text/x-python",
   "name": "python",
   "nbconvert_exporter": "python",
   "pygments_lexer": "ipython3",
   "version": "3.13.5"
  }
 },
 "nbformat": 4,
 "nbformat_minor": 5
}