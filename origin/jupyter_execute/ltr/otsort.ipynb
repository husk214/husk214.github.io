{
 "cells": [
  {
   "cell_type": "code",
   "execution_count": 1,
   "id": "65961f62-7fc8-4f80-bc53-eb1efb04742d",
   "metadata": {},
   "outputs": [],
   "source": [
    "import itertools\n",
    "import tensorflow as tf"
   ]
  },
  {
   "cell_type": "code",
   "execution_count": 2,
   "id": "85a18a40-50e2-4450-9ac6-84a3723832e6",
   "metadata": {},
   "outputs": [],
   "source": [
    "def ot_sinkhorn(C, a, b, eps, iter):\n",
    "    K = tf.exp(-C / eps)\n",
    "    u = tf.ones_like(a)\n",
    "    for _ in range(iter):\n",
    "        v = b / tf.linalg.matvec(tf.transpose(K),u)\n",
    "        u = a / tf.linalg.matvec(K,v)\n",
    "    return u, v, tf.reshape(u, (-1,1))*(K * tf.reshape(v, (1,-1)))\n",
    "\n",
    "def ot_sort(x, eps=0.1, iter=10):\n",
    "    l = x.shape[0]\n",
    "    y = (\n",
    "        tf.math.reduce_min(x)\n",
    "        + (tf.range(l, dtype=tf.float32) * tf.math.reduce_max(x) / l)\n",
    "    )\n",
    "    C = (\n",
    "        tf.repeat(y[None, :], l, axis=0)\n",
    "        - tf.transpose(tf.repeat(x[None, :], l, axis=0))\n",
    "    ) ** 2\n",
    "    \n",
    "    a = tf.ones_like(x) / l\n",
    "    b = tf.ones_like(y) / l\n",
    "    \n",
    "    _, _, P = ot_sinkhorn(C, a, b, eps, iter)\n",
    "    b_hat = tf.cumsum(b, axis=0)\n",
    "    r = l**2 * tf.linalg.matvec(P, b_hat)\n",
    "    s = l * tf.linalg.matvec(tf.transpose(P), x)\n",
    "    return r, s    "
   ]
  },
  {
   "cell_type": "code",
   "execution_count": 3,
   "id": "ab82cfb0-f825-42a8-8442-e97928673033",
   "metadata": {},
   "outputs": [],
   "source": [
    "x = tf.constant([6.5, 0.4, 1.5, 3.8,])"
   ]
  },
  {
   "cell_type": "code",
   "execution_count": 4,
   "id": "25641ce9-2363-438e-9fa7-97ce7d067c17",
   "metadata": {},
   "outputs": [
    {
     "name": "stdout",
     "output_type": "stream",
     "text": [
      "(eps, iter) = ('0.01', 1) , rank(x) = [nan nan nan nan] , sort(x) = [nan nan nan nan]\n",
      "(eps, iter) = ('0.01', 3) , rank(x) = [nan nan nan nan] , sort(x) = [nan nan nan nan]\n",
      "(eps, iter) = ('0.01', 10) , rank(x) = [nan nan nan nan] , sort(x) = [nan nan nan nan]\n",
      "(eps, iter) = ('0.11', 1) , rank(x) = [4.        1.        1.9999833 3.0021536] , sort(x) = [0.40002507 1.499975   3.791817   6.508183  ]\n",
      "(eps, iter) = ('0.11', 3) , rank(x) = [3.9999998 1.        1.9999833 3.002135 ] , sort(x) = [0.40002507 1.499975   3.7918868  6.508113  ]\n",
      "(eps, iter) = ('0.11', 10) , rank(x) = [4.        1.        1.9999833 3.002073 ] , sort(x) = [0.40002504 1.499975   3.7921221  6.507878  ]\n",
      "(eps, iter) = ('0.21', 1) , rank(x) = [4.        1.0000129 1.9968747 3.0371933] , sort(x) = [0.4046831 1.4953212 3.658656  6.64134  ]\n",
      "(eps, iter) = ('0.21', 3) , rank(x) = [3.9999998 1.0000131 1.9969128 3.0323765] , sort(x) = [0.40462542 1.4953785  3.6769617  6.623034  ]\n",
      "(eps, iter) = ('0.21', 10) , rank(x) = [3.9999998 1.0000136 1.9970403 3.0222778] , sort(x) = [0.40443417 1.4955692  3.7153375  6.5846586 ]\n",
      "(eps, iter) = ('0.31', 1) , rank(x) = [4.        1.0004954 1.9805951 3.0922985] , sort(x) = [0.4289095 1.4714131 3.4486194 6.8510575]\n",
      "(eps, iter) = ('0.31', 3) , rank(x) = [4.        1.0005335 1.9819548 3.0673704] , sort(x) = [0.42685473 1.473433   3.5434155  6.7562966 ]\n",
      "(eps, iter) = ('0.31', 10) , rank(x) = [4.        1.0006653 1.9854803 3.0346165] , sort(x) = [0.42151403 1.4787182  3.6679926  6.6317754 ]\n",
      "(eps, iter) = ('0.41', 1) , rank(x) = [3.9999998 1.0032645 1.9525045 3.1382437] , sort(x) = [0.46995708 1.4329568  3.2688274  7.0282583 ]\n",
      "(eps, iter) = ('0.41', 3) , rank(x) = [4.        1.0038569 1.9595304 3.0885458] , sort(x) = [0.459185  1.443379  3.458374  6.8390617]\n",
      "(eps, iter) = ('0.41', 10) , rank(x) = [3.9999998 1.0057689 1.9726367 3.0389879] , sort(x) = [0.43876776 1.4633346  3.6476116  6.650286  ]\n"
     ]
    }
   ],
   "source": [
    "for eps, iter in itertools.product(tf.range(0.01, 0.5, 0.1).numpy(), [1, 3, 10]):\n",
    "    r, s = ot_sort(x, eps, iter)\n",
    "    print(\n",
    "        \"(eps, iter) =\", (format(eps, '.2f'), iter),\n",
    "        \", rank(x) =\", r.numpy(),\n",
    "        \", sort(x) =\", s.numpy(),\n",
    "    )"
   ]
  },
  {
   "cell_type": "code",
   "execution_count": null,
   "id": "1854441b-935e-49ed-bef7-bf19be90fce8",
   "metadata": {},
   "outputs": [],
   "source": []
  }
 ],
 "metadata": {
  "kernelspec": {
   "display_name": "Python 3 (ipykernel)",
   "language": "python",
   "name": "python3"
  },
  "language_info": {
   "codemirror_mode": {
    "name": "ipython",
    "version": 3
   },
   "file_extension": ".py",
   "mimetype": "text/x-python",
   "name": "python",
   "nbconvert_exporter": "python",
   "pygments_lexer": "ipython3",
   "version": "3.11.6"
  }
 },
 "nbformat": 4,
 "nbformat_minor": 5
}