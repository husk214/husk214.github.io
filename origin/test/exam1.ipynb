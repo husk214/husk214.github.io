{
 "cells": [
  {
   "cell_type": "markdown",
   "id": "b9aebcfb-e5b3-4e7d-9b70-3012755958da",
   "metadata": {},
   "source": [
    "# Aaaaa"
   ]
  },
  {
   "cell_type": "code",
   "execution_count": null,
   "id": "d549ef44-435d-4871-a990-d45022c5a183",
   "metadata": {},
   "outputs": [],
   "source": [
    "import tensorflow_probability as tfp"
   ]
  },
  {
   "cell_type": "code",
   "execution_count": 3,
   "id": "5c22c4b8-2fa5-4847-8938-4cdd81d1437e",
   "metadata": {},
   "outputs": [],
   "source": [
    "scores = [0.1, 2., 5.]\n",
    "dist = tfp.distributions.PlackettLuce(scores)"
   ]
  },
  {
   "cell_type": "code",
   "execution_count": 4,
   "id": "4d354b39-4671-4979-8546-17ec69c1f872",
   "metadata": {},
   "outputs": [
    {
     "data": {
      "text/plain": [
       "<tf.Tensor: shape=(2,), dtype=float32, numpy=array([0.6706909 , 0.00552334], dtype=float32)>"
      ]
     },
     "execution_count": 4,
     "metadata": {},
     "output_type": "execute_result"
    }
   ],
   "source": [
    "permutations = [[2, 1, 0], [1, 0, 2]]\n",
    "dist.prob(permutations)"
   ]
  },
  {
   "cell_type": "code",
   "execution_count": null,
   "id": "2b3a8e10-228e-45ed-958b-29c037b7dbab",
   "metadata": {},
   "outputs": [],
   "source": []
  }
 ],
 "metadata": {
  "kernelspec": {
   "display_name": "Python 3 (ipykernel)",
   "language": "python",
   "name": "python3"
  },
  "language_info": {
   "codemirror_mode": {
    "name": "ipython",
    "version": 3
   },
   "file_extension": ".py",
   "mimetype": "text/x-python",
   "name": "python",
   "nbconvert_exporter": "python",
   "pygments_lexer": "ipython3",
   "version": "3.11.6"
  }
 },
 "nbformat": 4,
 "nbformat_minor": 5
}
