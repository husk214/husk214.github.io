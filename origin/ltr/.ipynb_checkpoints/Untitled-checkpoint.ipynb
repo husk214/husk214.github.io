{
 "cells": [
  {
   "cell_type": "code",
   "execution_count": 8,
   "id": "8da7252d-a438-4f8a-8bf2-59cd8465bd95",
   "metadata": {},
   "outputs": [],
   "source": [
    "# https://github.com/Felix-Petersen/diffsort\n",
    "\n",
    "import math\n",
    "from typing import List, Tuple\n",
    "\n",
    "import torch\n",
    "import numpy as np\n",
    "\n",
    "def odd_even_network(n):\n",
    "    layers = n\n",
    "\n",
    "    network = []\n",
    "\n",
    "    shifted: bool = False\n",
    "    even: bool = n % 2 == 0\n",
    "\n",
    "    for layer in range(layers):\n",
    "\n",
    "        if even:\n",
    "            k = n // 2 + shifted\n",
    "        else:\n",
    "            k = n // 2 + 1\n",
    "\n",
    "        split_a, split_b = np.zeros((k, n)), np.zeros((k, n))\n",
    "        combine_min, combine_max = np.zeros((n, k)), np.zeros((n, k))\n",
    "\n",
    "        count = 0\n",
    "\n",
    "        # for i in range(n // 2 if not (even and shifted) else n // 2 - 1):\n",
    "        for i in range(int(shifted), n-1, 2):\n",
    "            a, b = i, i + 1\n",
    "            split_a[count, a], split_b[count, b] = 1, 1\n",
    "            combine_min[a, count], combine_max[b, count] = 1, 1\n",
    "            count += 1\n",
    "\n",
    "        if even and shifted:\n",
    "            # Make sure that the corner values stay where they are/were:\n",
    "            a, b = 0, 0\n",
    "            split_a[count, a], split_b[count, b] = 1, 1\n",
    "            combine_min[a, count], combine_max[b, count] = .5, .5\n",
    "            count += 1\n",
    "            a, b = n - 1, n - 1\n",
    "            split_a[count, a], split_b[count, b] = 1, 1\n",
    "            combine_min[a, count], combine_max[b, count] = .5, .5\n",
    "            count += 1\n",
    "\n",
    "        elif not even:\n",
    "            if shifted:\n",
    "                a, b = 0, 0\n",
    "            else:\n",
    "                a, b = n - 1, n - 1\n",
    "            split_a[count, a], split_b[count, b] = 1, 1\n",
    "            combine_min[a, count], combine_max[b, count] = .5, .5\n",
    "            count += 1\n",
    "\n",
    "        assert count == k\n",
    "\n",
    "        network.append((split_a, split_b, combine_min, combine_max))\n",
    "        shifted = not shifted\n",
    "\n",
    "    return network\n",
    "\n",
    "\n",
    "def get_sorting_network(n, device='cpu'):\n",
    "    def matrix_to_torch(m):\n",
    "        return [[torch.from_numpy(matrix).float().to(device) for matrix in matrix_set] for matrix_set in m]\n",
    "    return matrix_to_torch(odd_even_network(n))"
   ]
  },
  {
   "cell_type": "code",
   "execution_count": 31,
   "id": "5c411199-2031-4a49-be5f-4d2692dd09f3",
   "metadata": {},
   "outputs": [
    {
     "data": {
      "text/plain": [
       "4"
      ]
     },
     "execution_count": 31,
     "metadata": {},
     "output_type": "execute_result"
    }
   ],
   "source": [
    "ls = get_sorting_network(4)\n",
    "len(ls)"
   ]
  },
  {
   "cell_type": "code",
   "execution_count": 32,
   "id": "458d0716-9de8-43aa-9218-3a6ff74f4d87",
   "metadata": {},
   "outputs": [
    {
     "data": {
      "text/plain": [
       "([tensor([[1., 0., 0., 0.],\n",
       "          [0., 0., 1., 0.]]),\n",
       "  tensor([[0., 1., 0., 0.],\n",
       "          [0., 0., 0., 1.]]),\n",
       "  tensor([[1., 0.],\n",
       "          [0., 0.],\n",
       "          [0., 1.],\n",
       "          [0., 0.]]),\n",
       "  tensor([[0., 0.],\n",
       "          [1., 0.],\n",
       "          [0., 0.],\n",
       "          [0., 1.]])],\n",
       " torch.Size([4, 2]))"
      ]
     },
     "execution_count": 32,
     "metadata": {},
     "output_type": "execute_result"
    }
   ],
   "source": [
    "ls[0], ls[0][2].shape"
   ]
  },
  {
   "cell_type": "code",
   "execution_count": 33,
   "id": "a4cddef5-8872-43c7-8468-5d17cb4fee5f",
   "metadata": {},
   "outputs": [],
   "source": [
    "vectors = torch.tensor([[3, 2, 4, 1]], dtype=torch.float32)\n",
    "steepness=10.\n",
    "\n",
    "x = vectors\n",
    "X = torch.eye(vectors.shape[1], dtype=x.dtype, device=x.device).repeat(x.shape[0], 1, 1)\n",
    "\n",
    "split_a, split_b, combine_min, combine_max = ls[0]\n",
    "split_a = split_a.type(x.dtype)\n",
    "split_b = split_b.type(x.dtype)\n",
    "combine_min = combine_min.type(x.dtype)\n",
    "combine_max = combine_max.type(x.dtype)\n",
    "\n",
    "a, b = x @ split_a.T, x @ split_b.T\n",
    "\n",
    "# float conversion necessary as PyTorch doesn't support Half for sigmoid as of 25. August 2021\n",
    "new_type = torch.float32 if x.dtype == torch.float16 else x.dtype\n",
    "\n",
    "\n",
    "alpha = torch.sigmoid((b-a).type(new_type) * steepness).type(x.dtype)\n",
    "\n",
    "\n",
    "aX = X @ split_a.T\n",
    "bX = X @ split_b.T\n",
    "w_min = alpha.unsqueeze(-2) * aX + (1-alpha).unsqueeze(-2) * bX\n",
    "w_max = (1-alpha).unsqueeze(-2) * aX + alpha.unsqueeze(-2) * bX\n",
    "X = (w_max @ combine_max.T.unsqueeze(-3)) + (w_min @ combine_min.T.unsqueeze(-3))\n",
    "x = (alpha * a + (1-alpha) * b) @ combine_min.T + ((1-alpha) * a + alpha * b) @ combine_max.T"
   ]
  },
  {
   "cell_type": "code",
   "execution_count": 34,
   "id": "86fac9ca-8eba-441c-ba63-46cd568aaa9b",
   "metadata": {},
   "outputs": [
    {
     "data": {
      "text/plain": [
       "tensor([2.0000, 3.0000, 1.0000, 4.0000])"
      ]
     },
     "execution_count": 34,
     "metadata": {},
     "output_type": "execute_result"
    }
   ],
   "source": [
    "X[0]@vectors[0]"
   ]
  },
  {
   "cell_type": "code",
   "execution_count": 35,
   "id": "8e4aa6fc-fcc6-4133-bcfd-cfb3e4ea41c2",
   "metadata": {},
   "outputs": [
    {
     "data": {
      "text/plain": [
       "tensor([[[4.5398e-05, 9.9995e-01, 0.0000e+00, 0.0000e+00],\n",
       "         [9.9995e-01, 4.5398e-05, 0.0000e+00, 0.0000e+00],\n",
       "         [0.0000e+00, 0.0000e+00, 9.3576e-14, 1.0000e+00],\n",
       "         [0.0000e+00, 0.0000e+00, 1.0000e+00, 9.3576e-14]]])"
      ]
     },
     "execution_count": 35,
     "metadata": {},
     "output_type": "execute_result"
    }
   ],
   "source": [
    "X"
   ]
  },
  {
   "cell_type": "code",
   "execution_count": null,
   "id": "d10a2330-075d-4cbb-aaa2-3b867a9df658",
   "metadata": {},
   "outputs": [],
   "source": []
  }
 ],
 "metadata": {
  "kernelspec": {
   "display_name": "Python 3 (ipykernel)",
   "language": "python",
   "name": "python3"
  },
  "language_info": {
   "codemirror_mode": {
    "name": "ipython",
    "version": 3
   },
   "file_extension": ".py",
   "mimetype": "text/x-python",
   "name": "python",
   "nbconvert_exporter": "python",
   "pygments_lexer": "ipython3",
   "version": "3.11.6"
  }
 },
 "nbformat": 4,
 "nbformat_minor": 5
}
