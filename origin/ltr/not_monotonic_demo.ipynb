{
 "cells": [
  {
   "cell_type": "code",
   "execution_count": null,
   "id": "f4ba139e-c3be-4e52-8532-8b79e48d4c1a",
   "metadata": {},
   "outputs": [],
   "source": [
    "%%capture\n",
    "\n",
    "%run neuralsort_demo.ipynb\n",
    "%run otsort_demo.ipynb\n",
    "%run fastsort_demo.ipynb"
   ]
  },
  {
   "cell_type": "code",
   "execution_count": null,
   "id": "e752c269-9a74-42bf-9c32-5060e56ec201",
   "metadata": {},
   "outputs": [],
   "source": [
    "import numpy as np\n",
    "import pandas as pd\n",
    "\n",
    "def plot(sx):\n",
    "    pd.DataFrame(\n",
    "        np.stack([i, sx]).T,\n",
    "        columns=['x', 'min(softsort(x, 0))'],\n",
    "    ).set_index('x').plot()"
   ]
  },
  {
   "cell_type": "code",
   "execution_count": null,
   "id": "a77807e3-6a67-4aa0-bb99-ed3b6da8e4a6",
   "metadata": {},
   "outputs": [],
   "source": [
    "# neural_sort\n",
    "\n",
    "i = tf.range(0.001, 2, 0.001).numpy()\n",
    "x = tf.constant([[e, 0.] for e in i])\n",
    "sx, sr = neural_sort(x)\n",
    "\n",
    "plot(sx[:, 1].numpy())"
   ]
  },
  {
   "cell_type": "code",
   "execution_count": null,
   "id": "7eebd6c7-a1a2-4070-94bf-e07d99cbb2bd",
   "metadata": {},
   "outputs": [],
   "source": [
    "# ot_sort\n",
    "\n",
    "sr, sx = ot_sort_batch(x)\n",
    "\n",
    "plot(sx[:, 1].numpy())"
   ]
  },
  {
   "cell_type": "code",
   "execution_count": null,
   "id": "ca1af641-63ae-47fd-ba1b-95b1eabf3690",
   "metadata": {},
   "outputs": [],
   "source": [
    "# fast_sort reg=1.0\n",
    "sx = np.array(\n",
    "    [soft_sort([e, 0], regularization_strength=1.0) for e in i]\n",
    ")\n",
    "\n",
    "plot(sx[:, 0])"
   ]
  },
  {
   "cell_type": "code",
   "execution_count": null,
   "id": "f131ea71-38e9-4f5b-984a-fc9bc4db5a6b",
   "metadata": {},
   "outputs": [],
   "source": [
    "# fast_sort reg=0.1\n",
    "i = np.arange(0.001, 20, 0.001)    \n",
    "sx = np.array(\n",
    "    [soft_sort([e, 0], regularization_strength=0.1) for e in i]\n",
    ")\n",
    "plot(sx[:, 0])"
   ]
  },
  {
   "cell_type": "code",
   "execution_count": null,
   "id": "4335ee1f-b834-4428-b556-566129a6a67a",
   "metadata": {},
   "outputs": [],
   "source": []
  }
 ],
 "metadata": {
  "kernelspec": {
   "display_name": "Python 3 (ipykernel)",
   "language": "python",
   "name": "python3"
  },
  "language_info": {
   "codemirror_mode": {
    "name": "ipython",
    "version": 3
   },
   "file_extension": ".py",
   "mimetype": "text/x-python",
   "name": "python",
   "nbconvert_exporter": "python",
   "pygments_lexer": "ipython3",
   "version": "3.11.6"
  }
 },
 "nbformat": 4,
 "nbformat_minor": 5
}
